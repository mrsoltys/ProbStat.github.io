{
 "cells": [
  {
   "cell_type": "code",
   "execution_count": 1,
   "id": "e1ab3530-dfc5-4b02-a40d-0514b46f901b",
   "metadata": {},
   "outputs": [
    {
     "data": {
      "application/vnd.jupyter.widget-view+json": {
       "model_id": "bd1769788f7c416aa6dea9bf1ed1612a",
       "version_major": 2,
       "version_minor": 0
      },
      "text/plain": [
       "VBox(children=(Dropdown(description='Distribution:', index=1, options=('Skewed Left', 'Normal', 'Uniform', 'Sk…"
      ]
     },
     "metadata": {},
     "output_type": "display_data"
    },
    {
     "data": {
      "application/vnd.jupyter.widget-view+json": {
       "model_id": "031cef92e4474a28a0dff3e58235c0b1",
       "version_major": 2,
       "version_minor": 0
      },
      "text/plain": [
       "Output()"
      ]
     },
     "metadata": {},
     "output_type": "display_data"
    }
   ],
   "source": [
    "import numpy as np\n",
    "import matplotlib.pyplot as plt\n",
    "import ipywidgets as widgets\n",
    "from IPython.display import display\n",
    "\n",
    "def generate_population(distribution, size=10000):\n",
    "    if distribution == \"Skewed Left\":\n",
    "        return np.random.exponential(scale=2, size=size) * -1 + 10  # Flip to skew left\n",
    "    elif distribution == \"Normal\":\n",
    "        return np.random.normal(loc=50, scale=15, size=size)\n",
    "    elif distribution == \"Uniform\":\n",
    "        return np.random.uniform(low=30, high=70, size=size)\n",
    "    elif distribution == \"Skewed Right\":\n",
    "        return np.random.exponential(scale=2, size=size) + 10\n",
    "    return np.random.normal(loc=50, scale=15, size=size)  # Default to normal\n",
    "\n",
    "def plot_distributions(distribution, sample_size, num_samples):\n",
    "    population = generate_population(distribution)\n",
    "    pop_mean, pop_std = np.mean(population), np.std(population)\n",
    "    \n",
    "    sample = np.random.choice(population, sample_size, replace=False)\n",
    "    sample_mean = np.mean(sample)\n",
    "    \n",
    "    sample_means = [np.mean(np.random.choice(population, sample_size, replace=False)) for _ in range(num_samples)]\n",
    "    \n",
    "    fig, axes = plt.subplots(3, 1, figsize=(8, 12))\n",
    "    \n",
    "    # Population Histogram\n",
    "    axes[0].hist(population, bins=30, alpha=0.6, color='blue', edgecolor='black')\n",
    "    axes[0].axvline(pop_mean, color='red', linestyle='dashed', linewidth=2, label=f'Mean: {pop_mean:.2f}')\n",
    "    axes[0].axvline(pop_mean - pop_std, color='green', linestyle='dotted', linewidth=2, label=f'Std Dev: {pop_std:.2f}')\n",
    "    axes[0].axvline(pop_mean + pop_std, color='green', linestyle='dotted', linewidth=2)\n",
    "    axes[0].set_title(\"Population Distribution\")\n",
    "    axes[0].legend()\n",
    "    \n",
    "    # Sample Histogram\n",
    "    axes[1].hist(sample, bins=20, alpha=0.6, color='orange', edgecolor='black')\n",
    "    axes[1].axvline(sample_mean, color='red', linestyle='dashed', linewidth=2, label=f'Mean: {sample_mean:.2f}')\n",
    "    axes[1].set_title(f\"Sample Distribution (n={sample_size})\")\n",
    "    axes[1].legend()\n",
    "    \n",
    "    # Sampling Distribution of the Mean\n",
    "    axes[2].hist(sample_means, bins=20, alpha=0.6, color='purple', edgecolor='black')\n",
    "    axes[2].axvline(np.mean(sample_means), color='red', linestyle='dashed', linewidth=2, label=f'Mean: {np.mean(sample_means):.2f}')\n",
    "    axes[2].set_title(f\"Sampling Distribution of the Mean ({num_samples} samples of n={sample_size})\")\n",
    "    axes[2].legend()\n",
    "    \n",
    "    plt.tight_layout()\n",
    "    plt.show()\n",
    "\n",
    "# Interactive widgets\n",
    "distribution_selector = widgets.Dropdown(\n",
    "    options=[\"Skewed Left\", \"Normal\", \"Uniform\", \"Skewed Right\"],\n",
    "    value=\"Normal\",\n",
    "    description=\"Distribution:\",\n",
    "    style={'description_width': 'initial'}\n",
    ")\n",
    "\n",
    "sample_size_slider = widgets.IntSlider(\n",
    "    value=30, min=5, max=500, step=5, description=\"Sample Size (n):\"\n",
    ")\n",
    "\n",
    "num_samples_slider = widgets.IntSlider(\n",
    "    value=100, min=10, max=1000, step=10, description=\"Number of Samples (x):\"\n",
    ")\n",
    "\n",
    "ui = widgets.VBox([distribution_selector, sample_size_slider, num_samples_slider])\n",
    "output = widgets.Output()\n",
    "\n",
    "def update_plot(*args):\n",
    "    with output:\n",
    "        output.clear_output(wait=True)\n",
    "        plot_distributions(distribution_selector.value, sample_size_slider.value, num_samples_slider.value)\n",
    "\n",
    "distribution_selector.observe(update_plot, 'value')\n",
    "sample_size_slider.observe(update_plot, 'value')\n",
    "num_samples_slider.observe(update_plot, 'value')\n",
    "\n",
    "display(ui, output)\n",
    "update_plot()\n"
   ]
  },
  {
   "cell_type": "code",
   "execution_count": 3,
   "id": "1ab3eed3-7141-44d7-8754-14e8581fd630",
   "metadata": {},
   "outputs": [],
   "source": [
    "import ipywidgets as widgets"
   ]
  },
  {
   "cell_type": "code",
   "execution_count": 5,
   "id": "294cee90-8bee-49a5-866f-59b0d47fe795",
   "metadata": {},
   "outputs": [
    {
     "data": {
      "text/plain": [
       "'7.8.1'"
      ]
     },
     "execution_count": 5,
     "metadata": {},
     "output_type": "execute_result"
    }
   ],
   "source": [
    "widgets.__version__"
   ]
  },
  {
   "cell_type": "code",
   "execution_count": null,
   "id": "da71bcc6-02f7-4a17-b3c0-219fb6371409",
   "metadata": {},
   "outputs": [],
   "source": []
  }
 ],
 "metadata": {
  "kernelspec": {
   "display_name": "Python [conda env:base] *",
   "language": "python",
   "name": "conda-base-py"
  },
  "language_info": {
   "codemirror_mode": {
    "name": "ipython",
    "version": 3
   },
   "file_extension": ".py",
   "mimetype": "text/x-python",
   "name": "python",
   "nbconvert_exporter": "python",
   "pygments_lexer": "ipython3",
   "version": "3.12.7"
  }
 },
 "nbformat": 4,
 "nbformat_minor": 5
}
