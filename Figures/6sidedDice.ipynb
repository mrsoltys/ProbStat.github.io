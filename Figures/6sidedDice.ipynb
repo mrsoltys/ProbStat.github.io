{
 "cells": [
  {
   "cell_type": "code",
   "execution_count": 9,
   "id": "74ab4f61-0a05-414d-82fa-8ebd411e47e8",
   "metadata": {},
   "outputs": [
    {
     "data": {
      "text/html": [
       "\n",
       "        <iframe\n",
       "            width=\"100%\"\n",
       "            height=\"650\"\n",
       "            src=\"http://127.0.0.1:8050/\"\n",
       "            frameborder=\"0\"\n",
       "            allowfullscreen\n",
       "            \n",
       "        ></iframe>\n",
       "        "
      ],
      "text/plain": [
       "<IPython.lib.display.IFrame at 0x14c760800>"
      ]
     },
     "metadata": {},
     "output_type": "display_data"
    }
   ],
   "source": [
    "import plotly.graph_objects as go\n",
    "import plotly.io as pio\n",
    "import numpy as np\n",
    "from dash import Dash, dcc, html, Output, Input\n",
    "\n",
    "# Define dice probabilities\n",
    "sides = np.array([1, 2, 3, 4, 5, 6])\n",
    "probabilities = np.full_like(sides, 1/6, dtype=float)\n",
    "\n",
    "# Create Dash app\n",
    "app = Dash(__name__)\n",
    "\n",
    "app.layout = html.Div([\n",
    "    dcc.Graph(id='dice-histogram', config={'displayModeBar': False}),\n",
    "    dcc.RangeSlider(\n",
    "        id='range-slider',\n",
    "        min=1, max=6, step=1,\n",
    "        marks={i: str(i) for i in range(1, 7)},\n",
    "        value=[1, 6]\n",
    "    ),\n",
    "    html.H3(id='probability-display', style={'textAlign': 'center'})\n",
    "])\n",
    "\n",
    "@app.callback(\n",
    "    [Output('dice-histogram', 'figure'), Output('probability-display', 'children')],\n",
    "    [Input('range-slider', 'value')]\n",
    ")\n",
    "def update_histogram(selected_range):\n",
    "    low, high = selected_range\n",
    "    selected_prob = sum(probabilities[(sides >= low) & (sides <= high)])\n",
    "    \n",
    "    # Create histogram figure\n",
    "    fig = go.Figure()\n",
    "    fig.add_trace(go.Bar(\n",
    "        x=sides, \n",
    "        y=probabilities,\n",
    "        marker_color=['orange' if low <= x <= high else 'gray' for x in sides]\n",
    "    ))\n",
    "    \n",
    "    fig.update_layout(\n",
    "        title='Probability Distribution of a 6-Sided Die',\n",
    "        xaxis_title='Die Roll',\n",
    "        yaxis_title='Probability',\n",
    "        yaxis=dict(tickformat='.2f'),\n",
    "        xaxis=dict(dtick=1),\n",
    "        template='plotly_white'\n",
    "    )\n",
    "    \n",
    "    prob_text = f'P({low} ≤ X ≤ {high}) = {selected_prob:.2f}'\n",
    "    return fig, prob_text\n",
    "\n",
    "# Run app\n",
    "if __name__ == '__main__':\n",
    "    app.run_server(debug=True)\n"
   ]
  },
  {
   "cell_type": "code",
   "execution_count": null,
   "id": "1d8d37da-a417-452c-9d47-fed4461ec6ca",
   "metadata": {},
   "outputs": [],
   "source": []
  }
 ],
 "metadata": {
  "kernelspec": {
   "display_name": "Python [conda env:base] *",
   "language": "python",
   "name": "conda-base-py"
  },
  "language_info": {
   "codemirror_mode": {
    "name": "ipython",
    "version": 3
   },
   "file_extension": ".py",
   "mimetype": "text/x-python",
   "name": "python",
   "nbconvert_exporter": "python",
   "pygments_lexer": "ipython3",
   "version": "3.12.7"
  }
 },
 "nbformat": 4,
 "nbformat_minor": 5
}
